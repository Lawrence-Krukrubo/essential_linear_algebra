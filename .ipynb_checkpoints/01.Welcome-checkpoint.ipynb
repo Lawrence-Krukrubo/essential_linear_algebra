{
 "cells": [
  {
   "cell_type": "markdown",
   "id": "unlimited-perception",
   "metadata": {},
   "source": [
    "<b><h1 align='center'>Welcome to Essential Linear Algebra for Data Science</h1></b>"
   ]
  },
  {
   "cell_type": "markdown",
   "id": "universal-bachelor",
   "metadata": {},
   "source": [
    "<img src='images/linear_algebra.png' height=800 width=600>\n",
    "<h6 align='center'><em>(wikipedia)</em></h6>"
   ]
  },
  {
   "cell_type": "markdown",
   "id": "apart-property",
   "metadata": {},
   "source": [
    "<h2 align='center'>Linear Algebra is the Bed-Rock of Artificial Intelligence.</h2>"
   ]
  },
  {
   "cell_type": "markdown",
   "id": "statewide-slovenia",
   "metadata": {},
   "source": [
    "Everyday, as Data Professionals, we make use of linear algebra properties...\n",
    "Data observations are represented as points and can be clustered as point-clouds using any clustering algorithm.\n",
    "\n",
    "Weights, independent and dependent variables are often represented as vectors and matrices. Matrices with 3 dimensions are represented as planes, higher dimensions as hyper-planes and their grand daddy are tensors, used for computational graphs and deep-learning. Tensors are the first-class-citizens of the most popular deep-learning frameworks like TensorFlow and Pytorch. Infact TensorFlow and the Apache Spark SystemML are some sort of low-level linear algebra execution environment."
   ]
  },
  {
   "cell_type": "markdown",
   "id": "vocal-cabin",
   "metadata": {},
   "source": [
    "Think of SystemML as an optimizer for linear algebra that’s capable of creating optimal execution plans for jobs running on data parallel frameworks like Apache Spark. And think of TensorFlow as one of the most widely used deep learning frameworks, which at its core, is a linear algebra library supporting automatic differentiation. And although TensorFlow’s Python-driven syntax is relatively complex, the Keras library provides an abstraction layer on top of TensorFlow.\n",
    "\n",
    "Another example of the importance of linear-algebra is data normalization, especially in machine learning. The popular **`L1-norm`** is nothing more than computing the **manhattan-distance** between two data points. While **`L2-norm`** is nothing more than computing the **Euclidean-Distance** between two data points and then normalising data points based on these computed distances. We shall see how to code these in Chapter One."
   ]
  },
  {
   "cell_type": "markdown",
   "id": "bottom-adapter",
   "metadata": {},
   "source": [
    "Linear algebra is so important to Artificial Intelligence, that Google built an entire computing stack called Tensor Processing Units (TPUs) primarily to speed up vector processing activities and matrix-multiplication for complex deep-learning models.\n",
    "\n",
    "<img src='images/tpu_core.jpg'>"
   ]
  },
  {
   "cell_type": "markdown",
   "id": "arctic-asthma",
   "metadata": {},
   "source": [
    "A TPU v2 core is made up of a pair of MXU and VPU. The Matrix Multiply Unit (MXU) runs matrix multiplications while the Vector Processing Unit (VPU) performs all other tasks such as activations, softmax, etc. The VPU handles float32 and int32 computations. The MXU on the other hand operates in a mixed precision 16-32 bit floating point format.\n",
    "\n",
    "TPUs excel many times faster than GPU clusters, when it comes to any task where large scale matrix multiplications dominate, such as neural networks.\n",
    "\n",
    "Beneath the hood of a TPU core is an XLA (accelerated Linear Algebra compiler), which takes the computational graphs produced by tensorflow and converts them into high-performing TPU machine codes."
   ]
  },
  {
   "cell_type": "markdown",
   "id": "horizontal-jaguar",
   "metadata": {},
   "source": [
    "<h2 align='center'>A Hand-in-Hand Approach</h2>\n",
    "<img src='images/handshake-3382503_1920.jpg' height=600 width=900>\n",
    "<h6 align='center'><em>(pixabay)</em></h6>"
   ]
  },
  {
   "cell_type": "markdown",
   "id": "exciting-hearts",
   "metadata": {},
   "source": [
    "Without getting drowned in heavy notations, this course would hold your hands and walk you through the most essential linear algebra topics and applications that you need to know to excel in Data Science. We shall use the friendly python language and accompanying libraries and a package called **`linear_alg`** which I built entirely myself to simplify the learning and application process of linear algebra concepts."
   ]
  }
 ],
 "metadata": {
  "kernelspec": {
   "display_name": "Python 3",
   "language": "python",
   "name": "python3"
  },
  "language_info": {
   "codemirror_mode": {
    "name": "ipython",
    "version": 3
   },
   "file_extension": ".py",
   "mimetype": "text/x-python",
   "name": "python",
   "nbconvert_exporter": "python",
   "pygments_lexer": "ipython3",
   "version": "3.8.5"
  }
 },
 "nbformat": 4,
 "nbformat_minor": 5
}
