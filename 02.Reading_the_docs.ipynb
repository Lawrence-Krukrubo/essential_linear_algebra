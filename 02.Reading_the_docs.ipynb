{
 "cells": [
  {
   "cell_type": "markdown",
   "id": "mobile-madness",
   "metadata": {},
   "source": [
    "<h1 align='center'><b>Reading The Docs!...</b></h1>"
   ]
  },
  {
   "cell_type": "markdown",
   "id": "worth-fortune",
   "metadata": {},
   "source": [
    "There is no magical process for gaining knowledge and experience as a Data Professional. It's the same old dusty road of commitment, perseverance and a good dose of **'Healthy-Curiosity'**. Adhering to good coding standards, writing docstrings and reading the documentation in parts are great, healthy habits to pick up along the way."
   ]
  },
  {
   "cell_type": "code",
   "execution_count": null,
   "id": "optical-milwaukee",
   "metadata": {},
   "outputs": [],
   "source": [
    "# requote that woman from the IBM intro to data science course that said something powerful about healthy curiosity"
   ]
  }
 ],
 "metadata": {
  "kernelspec": {
   "display_name": "Python 3",
   "language": "python",
   "name": "python3"
  },
  "language_info": {
   "codemirror_mode": {
    "name": "ipython",
    "version": 3
   },
   "file_extension": ".py",
   "mimetype": "text/x-python",
   "name": "python",
   "nbconvert_exporter": "python",
   "pygments_lexer": "ipython3",
   "version": "3.8.5"
  }
 },
 "nbformat": 4,
 "nbformat_minor": 5
}
